{
 "cells": [
  {
   "cell_type": "markdown",
   "id": "a2ac0352",
   "metadata": {},
   "source": [
    "\n",
    "\n",
    "Information from the dataset provider \n",
    "**Toronto Fire Services**. Toronto Fire Services (TFS) provides fire protection, technical rescue services, hazardous materials response, and first responder emergency medical assistance in Toronto, Ontario, Canada. Toronto Fire Services is currently the largest municipal fire department in Cana\n",
    "\n",
    "**About the dataset** <br>\n",
    "This dataset contains 27 columns and more than 11.000 rows about fire incidents that occurred in Toronto between 2011 and 2019.\n"
   ]
  },
  {
   "cell_type": "markdown",
   "id": "0302fe8f",
   "metadata": {},
   "source": [
    "# Packages"
   ]
  },
  {
   "cell_type": "code",
   "execution_count": null,
   "id": "e70b4826",
   "metadata": {},
   "outputs": [],
   "source": []
  },
  {
   "cell_type": "code",
   "execution_count": null,
   "id": "18143ea4",
   "metadata": {},
   "outputs": [],
   "source": []
  },
  {
   "cell_type": "code",
   "execution_count": 1,
   "id": "d6c90193",
   "metadata": {},
   "outputs": [],
   "source": [
    "import numpy as np\n",
    "import pandas as pd\n",
    "import matplotlib.pyplot as plt\n",
    "import seaborn as sns\n",
    "import datetime\n",
    "%matplotlib inline\n",
    "import warnings\n",
    "warnings.filterwarnings('ignore')"
   ]
  },
  {
   "cell_type": "markdown",
   "id": "dabde368",
   "metadata": {},
   "source": [
    "# Loading Dataset"
   ]
  },
  {
   "cell_type": "code",
   "execution_count": 2,
   "id": "db580c28",
   "metadata": {},
   "outputs": [
    {
     "data": {
      "text/plain": [
       "Index(['Area_of_Origin', 'Business_Impact', 'Civilian_Casualties',\n",
       "       'Count_of_Persons_Rescued', 'Estimated_Dollar_Loss',\n",
       "       'Estimated_Number_Of_Persons_Displaced', 'Ext_agent_app_or_defer_time',\n",
       "       'Extent_Of_Fire', 'Fire_Alarm_System_Impact_on_Evacuation',\n",
       "       'Fire_Alarm_System_Operation', 'Fire_Alarm_System_Presence',\n",
       "       'Fire_Under_Control_Time', 'Ignition_Source', 'Incident_Station_Area',\n",
       "       'Incident_Ward', 'Last_TFS_Unit_Clear_Time', 'Latitude', 'Longitude',\n",
       "       'Material_First_Ignited', 'Method_Of_Fire_Control', 'Possible_Cause',\n",
       "       'Property_Use', 'Smoke_Alarm_at_Fire_Origin_Alarm_Failure',\n",
       "       'Smoke_Alarm_at_Fire_Origin_Alarm_Type', 'Status_of_Fire_On_Arrival',\n",
       "       'TFS_Alarm_Time', 'TFS_Arrival_Time'],\n",
       "      dtype='object')"
      ]
     },
     "execution_count": 2,
     "metadata": {},
     "output_type": "execute_result"
    }
   ],
   "source": [
    "data = pd.read_csv(\"D:/BU/Sem 3/Machine learning/dataset/Fire-Incidents.csv\")\n",
    "data.columns"
   ]
  },
  {
   "cell_type": "code",
   "execution_count": 3,
   "id": "efa0f316",
   "metadata": {},
   "outputs": [
    {
     "name": "stdout",
     "output_type": "stream",
     "text": [
      "<class 'pandas.core.frame.DataFrame'>\n",
      "RangeIndex: 11214 entries, 0 to 11213\n",
      "Data columns (total 27 columns):\n",
      " #   Column                                    Non-Null Count  Dtype  \n",
      "---  ------                                    --------------  -----  \n",
      " 0   Area_of_Origin                            11214 non-null  object \n",
      " 1   Business_Impact                           11214 non-null  object \n",
      " 2   Civilian_Casualties                       11214 non-null  int64  \n",
      " 3   Count_of_Persons_Rescued                  11214 non-null  int64  \n",
      " 4   Estimated_Dollar_Loss                     11214 non-null  int64  \n",
      " 5   Estimated_Number_Of_Persons_Displaced     11214 non-null  int64  \n",
      " 6   Ext_agent_app_or_defer_time               11214 non-null  object \n",
      " 7   Extent_Of_Fire                            11214 non-null  object \n",
      " 8   Fire_Alarm_System_Impact_on_Evacuation    11214 non-null  object \n",
      " 9   Fire_Alarm_System_Operation               11214 non-null  object \n",
      " 10  Fire_Alarm_System_Presence                11214 non-null  object \n",
      " 11  Fire_Under_Control_Time                   11214 non-null  object \n",
      " 12  Ignition_Source                           11214 non-null  object \n",
      " 13  Incident_Station_Area                     11214 non-null  int64  \n",
      " 14  Incident_Ward                             11181 non-null  float64\n",
      " 15  Last_TFS_Unit_Clear_Time                  11214 non-null  object \n",
      " 16  Latitude                                  11214 non-null  float64\n",
      " 17  Longitude                                 11214 non-null  float64\n",
      " 18  Material_First_Ignited                    11214 non-null  object \n",
      " 19  Method_Of_Fire_Control                    11214 non-null  object \n",
      " 20  Possible_Cause                            11214 non-null  object \n",
      " 21  Property_Use                              11214 non-null  object \n",
      " 22  Smoke_Alarm_at_Fire_Origin_Alarm_Failure  11214 non-null  object \n",
      " 23  Smoke_Alarm_at_Fire_Origin_Alarm_Type     11214 non-null  object \n",
      " 24  Status_of_Fire_On_Arrival                 11214 non-null  object \n",
      " 25  TFS_Alarm_Time                            11214 non-null  object \n",
      " 26  TFS_Arrival_Time                          11214 non-null  object \n",
      "dtypes: float64(3), int64(5), object(19)\n",
      "memory usage: 2.3+ MB\n"
     ]
    }
   ],
   "source": [
    "data.info()"
   ]
  },
  {
   "cell_type": "markdown",
   "id": "ddf09d32",
   "metadata": {},
   "source": [
    "## For my analysis I'll take the following columns and store it in a new dataframe"
   ]
  },
  {
   "cell_type": "code",
   "execution_count": 4,
   "id": "87eb2047",
   "metadata": {},
   "outputs": [],
   "source": [
    "df= data[['Area_of_Origin','Civilian_Casualties','Ignition_Source','Incident_Ward','Last_TFS_Unit_Clear_Time','Material_First_Ignited','Possible_Cause','TFS_Alarm_Time','TFS_Arrival_Time','Fire_Under_Control_Time']]"
   ]
  },
  {
   "cell_type": "code",
   "execution_count": 5,
   "id": "93b5843d",
   "metadata": {},
   "outputs": [
    {
     "name": "stdout",
     "output_type": "stream",
     "text": [
      "<class 'pandas.core.frame.DataFrame'>\n",
      "RangeIndex: 11214 entries, 0 to 11213\n",
      "Data columns (total 10 columns):\n",
      " #   Column                    Non-Null Count  Dtype  \n",
      "---  ------                    --------------  -----  \n",
      " 0   Area_of_Origin            11214 non-null  object \n",
      " 1   Civilian_Casualties       11214 non-null  int64  \n",
      " 2   Ignition_Source           11214 non-null  object \n",
      " 3   Incident_Ward             11181 non-null  float64\n",
      " 4   Last_TFS_Unit_Clear_Time  11214 non-null  object \n",
      " 5   Material_First_Ignited    11214 non-null  object \n",
      " 6   Possible_Cause            11214 non-null  object \n",
      " 7   TFS_Alarm_Time            11214 non-null  object \n",
      " 8   TFS_Arrival_Time          11214 non-null  object \n",
      " 9   Fire_Under_Control_Time   11214 non-null  object \n",
      "dtypes: float64(1), int64(1), object(8)\n",
      "memory usage: 876.2+ KB\n"
     ]
    }
   ],
   "source": [
    "df.info()"
   ]
  },
  {
   "cell_type": "markdown",
   "id": "ba742ca4",
   "metadata": {},
   "source": [
    "Columns Civilian_Casualities and Incident_ward is of numerical type and other attributes are categorical.\n",
    "This dataset has 11214 rows and 10 columns"
   ]
  },
  {
   "cell_type": "markdown",
   "id": "df9bd0f0",
   "metadata": {},
   "source": [
    "## Printing Unique values"
   ]
  },
  {
   "cell_type": "code",
   "execution_count": 6,
   "id": "171a2469",
   "metadata": {},
   "outputs": [
    {
     "name": "stdout",
     "output_type": "stream",
     "text": [
      "Area_of_Origin\n",
      "['Porch or Balcony' 'Cooking Area or Kitchen'\n",
      " 'Living Area (e.g. living, TV, recreation, etc)'\n",
      " 'Undetermined  (formerly 98)'\n",
      " 'Sleeping Area or Bedroom (inc. patients room, dormitory, etc)'\n",
      " 'Engine Area' 'Concealed Ceiling Area' 'Hallway, Corridor' 'Laundry Area'\n",
      " 'Roof' 'Electrical Systems' 'Storage Area (outside)'\n",
      " 'Basement/cellar (not partitioned)' 'Court, Patio, Terrace'\n",
      " 'Lobby, Entranceway'\n",
      " 'Trash, Rubbish Storage (inc garbage chute room, garbage/industri'\n",
      " 'Other Outside Area' 'Closet (eg. clothes, broom, linen closet, etc.)'\n",
      " 'Garage' 'Trash, rubbish area (outside)'\n",
      " 'Dining or Beverage Area (inc mess, canteen, lunchroom, cafeteria'\n",
      " 'Washroom or Bathroom (toilet,restroom/locker room)' 'Attached Deck'\n",
      " 'Other - unclassified' 'Mechanical/Electrical Services Room'\n",
      " 'Other Storage Area' 'Stairway, Escalator' 'Attic Area'\n",
      " 'Other Structural Area'\n",
      " 'HVAC Equipment Room (furnace room, water heater closet, boiler)'\n",
      " 'Office' 'Exterior Wall'\n",
      " 'Process Manufacturing (inc manf, prod assembly, repair)'\n",
      " 'Chimney/Flue Pipe' 'Sauna' 'Concealed Floor Area'\n",
      " 'Ducting - Exhaust (inc cooking, fumes, etc.)'\n",
      " 'Supply Storage Room (inc maintenance/office/document storage, et'\n",
      " 'Electronic Equipment' 'Sales, Showroom Area' 'Elevator (includes shaft)'\n",
      " 'Product Storage (inc products or materials awaiting manuf, assembly)'\n",
      " 'Laboratory' 'Fuel Systems (eg. fuel tank, etc.)'\n",
      " 'Open Area (inc lawn, field, farmyard, park, playing field, pier,'\n",
      " 'Parking Area, Parking Lot' 'Other Functional Area'\n",
      " 'Residential/Business: Other busines area' 'Multiple Areas of Origin'\n",
      " 'Conveyor Shaft or Chute (inc dumbwaiter, laundry chute, garbage'\n",
      " 'Residential/Business: Restaurant area'\n",
      " 'Utility Shaft (eg. electrical wiring/phone, etc.)' 'Awning or Canopy'\n",
      " 'Concealed Wall Area'\n",
      " 'Running Gear (inc wheels and braking systems, transmission syste'\n",
      " 'Passenger Area' 'Other Building Services/Support Facilities'\n",
      " 'Other Vehicle Area' 'Under Investigation' 'Operator/Control Area'\n",
      " 'Locker (apartment storage)' 'Ducting - Heating, Air Conditioning'\n",
      " 'Performance Area (inc stage, rink, boxing ring, gym floor, altar'\n",
      " 'Shipping/Receiving/Loading Platform'\n",
      " 'Crawl Space (includes sub-structure)'\n",
      " 'Assembly Area (inc school room,spectator area, church, etc)'\n",
      " 'Covered Court, Atrium, mall concourse' 'Other Means of Egress'\n",
      " 'Trunk/Cargo Area' 'Operating Room, Treatment or Examination Area'\n",
      " 'Incinerator Room' 'Fuel Dispensing Area (outside)'\n",
      " 'Records storage area (inc vaults)']\n",
      "\n",
      "\n",
      "Civilian_Casualties\n",
      "[ 0  1  8  2 15  6  5  4  3  7]\n",
      "\n",
      "\n",
      "Ignition_Source\n",
      "['Undetermined'\n",
      " 'Other Cooking Items (eg Toaster, Kettle, elec frying pan)'\n",
      " 'Matches or Lighters (unable to distinguish)' 'Vehicle - Electrical'\n",
      " 'Circuit Wiring - Copper' 'Stove, Range-top burner'\n",
      " 'Distribution Equipment (includes panel boards, fuses, circuit br'\n",
      " 'Clothes Dryer' 'Blow Torch, Bunsen Burner'\n",
      " \"Smoker's Articles (eg. cigarettes, cigars, pipes already ignited\"\n",
      " 'Transformer' 'Space Heater - Fixed'\n",
      " \"Other Open Flame Tools/Smokers' Articles\" 'Space Heater - Portable'\n",
      " 'Candle'\n",
      " 'Service/Utility Lines (includes power/hydro transmission lines)'\n",
      " 'Other Electrical' 'Air Conditioner - Window or Room Unit'\n",
      " 'Lamp (eg. coal, oil, naphtha, etc.)' 'Microwave' 'Lighters (open flame)'\n",
      " 'Fireplace Insert' 'Oven'\n",
      " 'Exposure, source structure semi-detached or attached' 'Other'\n",
      " 'Hot Ashes, Embers, Spark' 'Other Electrical Distribution Item'\n",
      " 'Other Appliances' 'Extension Cord, Temporary Wiring'\n",
      " 'Chemical Reaction (eg. spontaneous combustion, etc.)'\n",
      " 'Incandescent Lamp - Light Bulb, Spotlight'\n",
      " 'Central Heating/Cooling Unit' 'Open Fired Barbeque - Fixed or Portable'\n",
      " 'Deep Fat Fryer' 'Cord, Cable for Appliance, Electrical Articles'\n",
      " 'Matches (open flame)'\n",
      " 'Exposure, source open fire (inc campfire, rubbish fire)'\n",
      " 'Multiple Ignition Source or Igniting Equipment (suspected arson)'\n",
      " 'Other Mechanical' 'Other Heating Equipment' 'Salamander'\n",
      " 'Refrigerator, Freezer (includes vending machine)'\n",
      " 'Cutting/Welding Equipment' 'Fireplace - Masonry' 'Wood burning stove'\n",
      " 'Heat Treatment Equipment (eg. furnace, oven, kiln, quench tanks,'\n",
      " 'Florescent Lamp (includes ballast)'\n",
      " 'Chemical Processing Equipment (eg. reactors, distilling units, e'\n",
      " 'Vehicle - Mechanical' 'Other Processing Equipment' 'Water Heater'\n",
      " 'Terminations-Copper (incl receptacles, switches, lights)'\n",
      " 'Other Lighting Equipment'\n",
      " 'Television, Radio, Stereo, Tape Recorder, etc.' 'Chimney - Masonry'\n",
      " 'Iron, Pressing Machine' 'Exposure, source other' 'Range Hood'\n",
      " 'Painting Equipment' 'Open Fire (eg. camp fire, rubbish fire, etc.)'\n",
      " 'Exposure, source grass, shrubs, trees' 'Fireplace - Factory Built'\n",
      " 'Static Electricity (spark)' 'Under Investigation'\n",
      " 'Halogen Lamp or light' 'Flue Pipe' 'Fireworks'\n",
      " 'Terminations-Aluminum (incl receptables, switches, lights)'\n",
      " 'Chimney - Factory Built' 'Meter' 'Portable generator'\n",
      " 'Exposure, source structure detached' 'Lightning'\n",
      " 'Outdoor fireplace/heater' 'Rekindle' 'Washing Machine'\n",
      " 'Circuit Wiring - Aluminum' 'Vehicle collision'\n",
      " 'Exposure, source vehicle (outside structure)'\n",
      " 'Electric Blanket, Heating Pad' 'Christmas Lights, Decorative Lighting'\n",
      " 'Incinerator']\n",
      "\n",
      "\n",
      "Incident_Ward\n",
      "[18.  7. 27. 20.  5. 15. 14. 17. 29.  9.  8. 42. 22. 36. 43.  1. 28. 33.\n",
      " 24. 35. 37. 30. 34. 11. 10.  6. 21.  4. 19. 26. 44. 32. 23. 25. 38. 31.\n",
      "  2. 13. 12. 16.  3. 40. 41. nan 39.]\n",
      "\n",
      "\n",
      "Last_TFS_Unit_Clear_Time\n",
      "['2018-08-24T17:42:43' '2018-11-24T12:45:21' '2017-02-09T23:36:33' ...\n",
      " '2018-02-24T03:04:36' '2018-02-24T04:20:37' '2018-02-24T10:41:03']\n",
      "\n",
      "\n",
      "Material_First_Ignited\n",
      "['Undetermined (formerly 98)' 'Plastic' 'Bedding'\n",
      " 'Electrical Wiring Insulation' 'Structural Member' 'Cooking Oil, Grease'\n",
      " 'Other' 'Exterior Roof Covering' 'Mattress, Pillow'\n",
      " 'Upholstered Sofa, Chair, etc.' 'Other Building Component'\n",
      " 'Other Soft Goods, Wearing Apparel' 'Multiple Objects or Materials'\n",
      " 'Alcohol (methanol)' 'Cabinetry' 'Rubbish, Trash, Waste' 'Vehicle'\n",
      " 'Fabric - Synthetic, Combination' 'Other Furniture' 'Wood'\n",
      " 'Paper, Cardboard' 'Interior Wall/Ceiling' 'Floor'\n",
      " 'Wearing Apparel on a Person' 'Cleaning Supplies'\n",
      " 'Fabric - Natural (eg. cotton, wool, etc.)'\n",
      " 'Other chemicals, materials not classified above'\n",
      " 'Linen Other than Bedding' 'Books, Magazines, Newspapers'\n",
      " 'Exterior Cladding' 'Rug, Carpet' 'Curtain, Drapery'\n",
      " 'Asphalt, Tar Product' 'Insulation' 'Bush, Grass, Tree, Leaves, etc.'\n",
      " 'Multiple diverse objects ignited' 'Other Flammable, Combustible Liquid'\n",
      " 'Gasoline' 'Creosote (chimney, flue pipe)'\n",
      " 'Agricultural Product - Other (eg pesticide, fertilizer)'\n",
      " 'Christmas Tree' 'Natural Gas' 'Propane' 'Rubber, not classified above'\n",
      " 'Agricultural Product - Grown (eg. straw, seeds, etc.)' 'Other Gases'\n",
      " 'Non-upholstered Chair, etc.' 'Under Investigation'\n",
      " 'Oily rags (inc. paint rags, etc)'\n",
      " 'Oxidizing material (inc bleach, peroxide)'\n",
      " 'Paint, varnish stored in container' 'Nest' 'Pyrophoric metals'\n",
      " 'Diesel Fuel/Fuel Oil']\n",
      "\n",
      "\n",
      "Possible_Cause\n",
      "['Undetermined' 'Under Investigation' 'Suspected Arson'\n",
      " 'Electrical Failure' 'Unattended'\n",
      " 'Used or Placed too close to combustibles' 'Improperly Discarded'\n",
      " 'Children Playing (Ages 11 and under)' 'Improper Storage'\n",
      " 'Improper handling of ignition source or ignited material'\n",
      " 'Other unintentional cause, not classified'\n",
      " 'Design/Construction/Installation/Maintenance Deficiency'\n",
      " 'Mechanical Failure' 'Unintentional, cause undetermined'\n",
      " 'Used for purpose not intended' 'Exposure fire'\n",
      " 'Other misuse of ignition source/material ignited'\n",
      " 'Routine maintenance deficiency, eg creosote, lint, grease buildup'\n",
      " 'Suspected Vandalism' 'Suspected Youth Vandalism (Ages 12 to 17)'\n",
      " 'Natural Cause' 'Vehicle Accident/Collision' 'Riot/Civil Commotion'\n",
      " 'Rekindle']\n",
      "\n",
      "\n",
      "TFS_Alarm_Time\n",
      "['2018-08-24T16:49:36' '2018-11-24T07:09:12' '2017-02-09T17:45:07' ...\n",
      " '2018-02-24T02:30:33' '2018-02-24T00:34:12' '2018-02-24T08:22:30']\n",
      "\n",
      "\n",
      "TFS_Arrival_Time\n",
      "['2018-08-24T16:54:09' '2018-11-24T07:14:23' '2017-02-09T17:48:49' ...\n",
      " '2018-02-24T02:35:07' '2018-02-24T00:38:47' '2018-02-24T08:27:21']\n",
      "\n",
      "\n",
      "Fire_Under_Control_Time\n",
      "['2018-08-24T17:06:28' '2018-11-24T07:19:00' '2017-02-09T18:36:21' ...\n",
      " '2018-02-24T02:40:00' '2018-02-24T00:48:11' '2018-02-24T09:15:24']\n",
      "\n",
      "\n"
     ]
    }
   ],
   "source": [
    "for i in df:\n",
    "    print(i)\n",
    "    print(df[i].unique())\n",
    "    print(\"\\n\")"
   ]
  },
  {
   "cell_type": "code",
   "execution_count": 7,
   "id": "4321426b",
   "metadata": {},
   "outputs": [
    {
     "data": {
      "text/plain": [
       "Area_of_Origin               0\n",
       "Civilian_Casualties          0\n",
       "Ignition_Source              0\n",
       "Incident_Ward               33\n",
       "Last_TFS_Unit_Clear_Time     0\n",
       "Material_First_Ignited       0\n",
       "Possible_Cause               0\n",
       "TFS_Alarm_Time               0\n",
       "TFS_Arrival_Time             0\n",
       "Fire_Under_Control_Time      0\n",
       "dtype: int64"
      ]
     },
     "execution_count": 7,
     "metadata": {},
     "output_type": "execute_result"
    }
   ],
   "source": [
    "df.isnull().sum()"
   ]
  },
  {
   "cell_type": "code",
   "execution_count": 8,
   "id": "aab0a386",
   "metadata": {},
   "outputs": [],
   "source": [
    "df.fillna(0, inplace=True)"
   ]
  },
  {
   "cell_type": "markdown",
   "id": "f00c4199",
   "metadata": {},
   "source": [
    "Incident_ward has 33 null values. Since there is no ward numbered 0, we shall fill the missing values with 0 and keep the data without omiting them"
   ]
  },
  {
   "cell_type": "code",
   "execution_count": 9,
   "id": "85bcaa90",
   "metadata": {},
   "outputs": [
    {
     "data": {
      "text/html": [
       "<div>\n",
       "<style scoped>\n",
       "    .dataframe tbody tr th:only-of-type {\n",
       "        vertical-align: middle;\n",
       "    }\n",
       "\n",
       "    .dataframe tbody tr th {\n",
       "        vertical-align: top;\n",
       "    }\n",
       "\n",
       "    .dataframe thead th {\n",
       "        text-align: right;\n",
       "    }\n",
       "</style>\n",
       "<table border=\"1\" class=\"dataframe\">\n",
       "  <thead>\n",
       "    <tr style=\"text-align: right;\">\n",
       "      <th></th>\n",
       "      <th>Civilian_Casualties</th>\n",
       "      <th>Incident_Ward</th>\n",
       "    </tr>\n",
       "  </thead>\n",
       "  <tbody>\n",
       "    <tr>\n",
       "      <th>count</th>\n",
       "      <td>11214.000000</td>\n",
       "      <td>11214.000000</td>\n",
       "    </tr>\n",
       "    <tr>\n",
       "      <th>mean</th>\n",
       "      <td>0.112538</td>\n",
       "      <td>19.525058</td>\n",
       "    </tr>\n",
       "    <tr>\n",
       "      <th>std</th>\n",
       "      <td>0.456429</td>\n",
       "      <td>11.793265</td>\n",
       "    </tr>\n",
       "    <tr>\n",
       "      <th>min</th>\n",
       "      <td>0.000000</td>\n",
       "      <td>0.000000</td>\n",
       "    </tr>\n",
       "    <tr>\n",
       "      <th>25%</th>\n",
       "      <td>0.000000</td>\n",
       "      <td>9.250000</td>\n",
       "    </tr>\n",
       "    <tr>\n",
       "      <th>50%</th>\n",
       "      <td>0.000000</td>\n",
       "      <td>19.000000</td>\n",
       "    </tr>\n",
       "    <tr>\n",
       "      <th>75%</th>\n",
       "      <td>0.000000</td>\n",
       "      <td>28.000000</td>\n",
       "    </tr>\n",
       "    <tr>\n",
       "      <th>max</th>\n",
       "      <td>15.000000</td>\n",
       "      <td>44.000000</td>\n",
       "    </tr>\n",
       "  </tbody>\n",
       "</table>\n",
       "</div>"
      ],
      "text/plain": [
       "       Civilian_Casualties  Incident_Ward\n",
       "count         11214.000000   11214.000000\n",
       "mean              0.112538      19.525058\n",
       "std               0.456429      11.793265\n",
       "min               0.000000       0.000000\n",
       "25%               0.000000       9.250000\n",
       "50%               0.000000      19.000000\n",
       "75%               0.000000      28.000000\n",
       "max              15.000000      44.000000"
      ]
     },
     "execution_count": 9,
     "metadata": {},
     "output_type": "execute_result"
    }
   ],
   "source": [
    "df.describe()"
   ]
  },
  {
   "cell_type": "markdown",
   "id": "0af98617",
   "metadata": {},
   "source": [
    "This dataset contains data of wards 1 to 44."
   ]
  },
  {
   "cell_type": "markdown",
   "id": "4a54b640",
   "metadata": {},
   "source": [
    "## Wards with frequent fire incidents"
   ]
  },
  {
   "cell_type": "code",
   "execution_count": 10,
   "id": "f2c892b5",
   "metadata": {},
   "outputs": [
    {
     "data": {
      "text/plain": [
       "<AxesSubplot:xlabel='count', ylabel='Incident_Ward'>"
      ]
     },
     "execution_count": 10,
     "metadata": {},
     "output_type": "execute_result"
    },
    {
     "data": {
      "image/png": "[encoded data removed]",
      "text/plain": [
       "<Figure size 432x288 with 1 Axes>"
      ]
     },
     "metadata": {
      "needs_background": "light"
     },
     "output_type": "display_data"
    }
   ],
   "source": [
    "\n",
    "order = df['Incident_Ward'].value_counts(ascending=False).head(20).index\n",
    "sns.countplot(y=df['Incident_Ward'],order=order)"
   ]
  },
  {
   "cell_type": "markdown",
   "id": "6deea3f9",
   "metadata": {},
   "source": [
    "Ward 20 has recorded frequent fire incidents"
   ]
  },
  {
   "cell_type": "markdown",
   "id": "cbc1594a",
   "metadata": {},
   "source": [
    "## Area of Origin"
   ]
  },
  {
   "cell_type": "code",
   "execution_count": 10,
   "id": "e54872e6",
   "metadata": {},
   "outputs": [
    {
     "data": {
      "text/plain": [
       "<AxesSubplot:xlabel='count', ylabel='Area_of_Origin'>"
      ]
     },
     "execution_count": 10,
     "metadata": {},
     "output_type": "execute_result"
    },
    {
     "data": {
      "image/png": "[encoded data removed]",
      "text/plain": [
       "<Figure size 432x288 with 1 Axes>"
      ]
     },
     "metadata": {
      "needs_background": "light"
     },
     "output_type": "display_data"
    }
   ],
   "source": [
    "\n",
    "order = df['Area_of_Origin'].value_counts(ascending=False).head(20).index\n",
    "sns.countplot(y=df['Area_of_Origin'],order=order)"
   ]
  },
  {
   "cell_type": "markdown",
   "id": "643b036a",
   "metadata": {},
   "source": [
    "Most fire accidents are originated from cooking area or Kitchen"
   ]
  },
  {
   "cell_type": "markdown",
   "id": "51733d46",
   "metadata": {},
   "source": [
    "## Material First Ignited"
   ]
  },
  {
   "cell_type": "code",
   "execution_count": 11,
   "id": "e4463f87",
   "metadata": {},
   "outputs": [
    {
     "data": {
      "text/plain": [
       "<AxesSubplot:xlabel='count', ylabel='Material_First_Ignited'>"
      ]
     },
     "execution_count": 11,
     "metadata": {},
     "output_type": "execute_result"
    },
    {
     "data": {
      "image/png": "[encoded data removed]",
      "text/plain": [
       "<Figure size 432x288 with 1 Axes>"
      ]
     },
     "metadata": {
      "needs_background": "light"
     },
     "output_type": "display_data"
    }
   ],
   "source": [
    "\n",
    "order = df['Material_First_Ignited'].value_counts(ascending=False).head(20).index\n",
    "sns.countplot(y=df['Material_First_Ignited'],order=order)"
   ]
  },
  {
   "cell_type": "markdown",
   "id": "c7ec1e28",
   "metadata": {},
   "source": [
    "In Most fire accidents Cooking Oil,Grease were the first material to catch fire"
   ]
  },
  {
   "cell_type": "code",
   "execution_count": 12,
   "id": "aec7f608",
   "metadata": {},
   "outputs": [
    {
     "data": {
      "text/html": [
       "<div>\n",
       "<style scoped>\n",
       "    .dataframe tbody tr th:only-of-type {\n",
       "        vertical-align: middle;\n",
       "    }\n",
       "\n",
       "    .dataframe tbody tr th {\n",
       "        vertical-align: top;\n",
       "    }\n",
       "\n",
       "    .dataframe thead th {\n",
       "        text-align: right;\n",
       "    }\n",
       "</style>\n",
       "<table border=\"1\" class=\"dataframe\">\n",
       "  <thead>\n",
       "    <tr style=\"text-align: right;\">\n",
       "      <th></th>\n",
       "      <th>Area_of_Origin</th>\n",
       "      <th>Civilian_Casualties</th>\n",
       "      <th>Ignition_Source</th>\n",
       "      <th>Incident_Ward</th>\n",
       "      <th>Last_TFS_Unit_Clear_Time</th>\n",
       "      <th>Material_First_Ignited</th>\n",
       "      <th>Possible_Cause</th>\n",
       "      <th>TFS_Alarm_Time</th>\n",
       "      <th>TFS_Arrival_Time</th>\n",
       "      <th>Fire_Under_Control_Time</th>\n",
       "    </tr>\n",
       "  </thead>\n",
       "  <tbody>\n",
       "    <tr>\n",
       "      <th>0</th>\n",
       "      <td>Porch or Balcony</td>\n",
       "      <td>0</td>\n",
       "      <td>Undetermined</td>\n",
       "      <td>18.0</td>\n",
       "      <td>2018-08-24T17:42:43</td>\n",
       "      <td>Undetermined (formerly 98)</td>\n",
       "      <td>Undetermined</td>\n",
       "      <td>2018-08-24T16:49:36</td>\n",
       "      <td>2018-08-24T16:54:09</td>\n",
       "      <td>2018-08-24T17:06:28</td>\n",
       "    </tr>\n",
       "    <tr>\n",
       "      <th>1</th>\n",
       "      <td>Cooking Area or Kitchen</td>\n",
       "      <td>0</td>\n",
       "      <td>Other Cooking Items (eg Toaster, Kettle, elec ...</td>\n",
       "      <td>7.0</td>\n",
       "      <td>2018-11-24T12:45:21</td>\n",
       "      <td>Plastic</td>\n",
       "      <td>Under Investigation</td>\n",
       "      <td>2018-11-24T07:09:12</td>\n",
       "      <td>2018-11-24T07:14:23</td>\n",
       "      <td>2018-11-24T07:19:00</td>\n",
       "    </tr>\n",
       "    <tr>\n",
       "      <th>2</th>\n",
       "      <td>Living Area (e.g. living, TV, recreation, etc)</td>\n",
       "      <td>1</td>\n",
       "      <td>Undetermined</td>\n",
       "      <td>27.0</td>\n",
       "      <td>2017-02-09T23:36:33</td>\n",
       "      <td>Undetermined (formerly 98)</td>\n",
       "      <td>Undetermined</td>\n",
       "      <td>2017-02-09T17:45:07</td>\n",
       "      <td>2017-02-09T17:48:49</td>\n",
       "      <td>2017-02-09T18:36:21</td>\n",
       "    </tr>\n",
       "    <tr>\n",
       "      <th>3</th>\n",
       "      <td>Undetermined  (formerly 98)</td>\n",
       "      <td>0</td>\n",
       "      <td>Undetermined</td>\n",
       "      <td>20.0</td>\n",
       "      <td>2012-11-01T16:30:31</td>\n",
       "      <td>Undetermined (formerly 98)</td>\n",
       "      <td>Undetermined</td>\n",
       "      <td>2012-10-30T00:42:01</td>\n",
       "      <td>2012-10-30T00:44:58</td>\n",
       "      <td>2012-10-30T01:28:48</td>\n",
       "    </tr>\n",
       "    <tr>\n",
       "      <th>4</th>\n",
       "      <td>Sleeping Area or Bedroom (inc. patients room, ...</td>\n",
       "      <td>8</td>\n",
       "      <td>Matches or Lighters (unable to distinguish)</td>\n",
       "      <td>5.0</td>\n",
       "      <td>2018-07-08T16:44:07</td>\n",
       "      <td>Bedding</td>\n",
       "      <td>Suspected Arson</td>\n",
       "      <td>2018-07-08T04:08:50</td>\n",
       "      <td>2018-07-08T04:13:54</td>\n",
       "      <td>2018-07-08T04:38:28</td>\n",
       "    </tr>\n",
       "  </tbody>\n",
       "</table>\n",
       "</div>"
      ],
      "text/plain": [
       "                                      Area_of_Origin  Civilian_Casualties  \\\n",
       "0                                   Porch or Balcony                    0   \n",
       "1                            Cooking Area or Kitchen                    0   \n",
       "2     Living Area (e.g. living, TV, recreation, etc)                    1   \n",
       "3                        Undetermined  (formerly 98)                    0   \n",
       "4  Sleeping Area or Bedroom (inc. patients room, ...                    8   \n",
       "\n",
       "                                     Ignition_Source  Incident_Ward  \\\n",
       "0                                       Undetermined           18.0   \n",
       "1  Other Cooking Items (eg Toaster, Kettle, elec ...            7.0   \n",
       "2                                       Undetermined           27.0   \n",
       "3                                       Undetermined           20.0   \n",
       "4        Matches or Lighters (unable to distinguish)            5.0   \n",
       "\n",
       "  Last_TFS_Unit_Clear_Time      Material_First_Ignited       Possible_Cause  \\\n",
       "0      2018-08-24T17:42:43  Undetermined (formerly 98)         Undetermined   \n",
       "1      2018-11-24T12:45:21                     Plastic  Under Investigation   \n",
       "2      2017-02-09T23:36:33  Undetermined (formerly 98)         Undetermined   \n",
       "3      2012-11-01T16:30:31  Undetermined (formerly 98)         Undetermined   \n",
       "4      2018-07-08T16:44:07                     Bedding      Suspected Arson   \n",
       "\n",
       "        TFS_Alarm_Time     TFS_Arrival_Time Fire_Under_Control_Time  \n",
       "0  2018-08-24T16:49:36  2018-08-24T16:54:09     2018-08-24T17:06:28  \n",
       "1  2018-11-24T07:09:12  2018-11-24T07:14:23     2018-11-24T07:19:00  \n",
       "2  2017-02-09T17:45:07  2017-02-09T17:48:49     2017-02-09T18:36:21  \n",
       "3  2012-10-30T00:42:01  2012-10-30T00:44:58     2012-10-30T01:28:48  \n",
       "4  2018-07-08T04:08:50  2018-07-08T04:13:54     2018-07-08T04:38:28  "
      ]
     },
     "execution_count": 12,
     "metadata": {},
     "output_type": "execute_result"
    }
   ],
   "source": [
    "df.head()"
   ]
  },
  {
   "cell_type": "code",
   "execution_count": 13,
   "id": "92a51348",
   "metadata": {},
   "outputs": [],
   "source": [
    "df3=df"
   ]
  },
  {
   "cell_type": "markdown",
   "id": "28d104c3",
   "metadata": {},
   "source": [
    "## Feature Engineering"
   ]
  },
  {
   "cell_type": "code",
   "execution_count": 14,
   "id": "c68b82d7",
   "metadata": {},
   "outputs": [],
   "source": [
    "df3['TFS_Alarm_Time'] = df3['TFS_Alarm_Time'].str.replace('T', ' ')\n",
    "df3['TFS_Arrival_Time'] = df3['TFS_Arrival_Time'].str.replace('T', ' ')\n",
    "df3['Fire_Under_Control_Time'] = df3['Fire_Under_Control_Time'].str.replace('T', ' ')\n",
    "df3['Last_TFS_Unit_Clear_Time'] = df3['Last_TFS_Unit_Clear_Time'].str.replace('T', ' ')\n",
    "\n",
    "df3['TFS_Alarm_Time'] = pd.to_datetime(df3['TFS_Alarm_Time']).dt.strftime('%d/%m/%Y %H:%M:%S')\n",
    "df3['TFS_Arrival_Time'] = pd.to_datetime(df3['TFS_Arrival_Time']).dt.strftime('%d/%m/%Y %H:%M:%S')\n",
    "df3['Fire_Under_Control_Time'] = pd.to_datetime(df3['Fire_Under_Control_Time']).dt.strftime('%d/%m/%Y %H:%M:%S')\n",
    "df3['Last_TFS_Unit_Clear_Time'] = pd.to_datetime(df3['Last_TFS_Unit_Clear_Time']).dt.strftime('%d/%m/%Y %H:%M:%S')\n",
    "\n",
    "df3['TFS_Alarm_Time']=df3['TFS_Alarm_Time'].astype('datetime64[ns]')\n",
    "df3['TFS_Arrival_Time']=df3['TFS_Arrival_Time'].astype('datetime64[ns]')\n",
    "df3['Fire_Under_Control_Time'] =df3['Fire_Under_Control_Time'] .astype('datetime64[ns]')\n",
    "df3['Last_TFS_Unit_Clear_Time'] =df3['Last_TFS_Unit_Clear_Time'] .astype('datetime64[ns]')\n"
   ]
  },
  {
   "cell_type": "code",
   "execution_count": 15,
   "id": "ba378c75",
   "metadata": {},
   "outputs": [],
   "source": [
    "\n",
    "df3['Year'] = pd.DatetimeIndex(df3['TFS_Alarm_Time']).year\n",
    "df3['Month'] = pd.DatetimeIndex(df3['TFS_Alarm_Time']).month\n",
    "df3['Day_of_Week'] = pd.DatetimeIndex(df3['TFS_Alarm_Time']).dayofweek\n",
    "\n",
    "\n",
    "b = [0,4,8,12,16,20,24]\n",
    "l = ['Late Night', 'Early Morning','Morning','Noon','Evening','Night']\n",
    "df3['Part_of_Day'] = pd.cut(pd.DatetimeIndex(df3['TFS_Alarm_Time']).hour, bins=b, labels=l, include_lowest=True)\n",
    "\n",
    "\n",
    "df3['Reaction_time_minutes'] = ((df3.TFS_Arrival_Time - df3.TFS_Alarm_Time).dt.total_seconds()/60).round()\n",
    "df3['Extinguish_time_minutes'] =((df3.Fire_Under_Control_Time - df3.TFS_Arrival_Time).dt.total_seconds()/60).round()\n",
    "df3['Time_spent_minutes'] = ((df3.Last_TFS_Unit_Clear_Time - df3.TFS_Arrival_Time).dt.total_seconds()/60).round()\n"
   ]
  },
  {
   "cell_type": "code",
   "execution_count": 16,
   "id": "f7bf3980",
   "metadata": {},
   "outputs": [
    {
     "data": {
      "text/html": [
       "<div>\n",
       "<style scoped>\n",
       "    .dataframe tbody tr th:only-of-type {\n",
       "        vertical-align: middle;\n",
       "    }\n",
       "\n",
       "    .dataframe tbody tr th {\n",
       "        vertical-align: top;\n",
       "    }\n",
       "\n",
       "    .dataframe thead th {\n",
       "        text-align: right;\n",
       "    }\n",
       "</style>\n",
       "<table border=\"1\" class=\"dataframe\">\n",
       "  <thead>\n",
       "    <tr style=\"text-align: right;\">\n",
       "      <th></th>\n",
       "      <th>Area_of_Origin</th>\n",
       "      <th>Civilian_Casualties</th>\n",
       "      <th>Ignition_Source</th>\n",
       "      <th>Incident_Ward</th>\n",
       "      <th>Last_TFS_Unit_Clear_Time</th>\n",
       "      <th>Material_First_Ignited</th>\n",
       "      <th>Possible_Cause</th>\n",
       "      <th>TFS_Alarm_Time</th>\n",
       "      <th>TFS_Arrival_Time</th>\n",
       "      <th>Fire_Under_Control_Time</th>\n",
       "      <th>Year</th>\n",
       "      <th>Month</th>\n",
       "      <th>Day_of_Week</th>\n",
       "      <th>Part_of_Day</th>\n",
       "      <th>Reaction_time_minutes</th>\n",
       "      <th>Extinguish_time_minutes</th>\n",
       "      <th>Time_spent_minutes</th>\n",
       "    </tr>\n",
       "  </thead>\n",
       "  <tbody>\n",
       "    <tr>\n",
       "      <th>0</th>\n",
       "      <td>Porch or Balcony</td>\n",
       "      <td>0</td>\n",
       "      <td>Undetermined</td>\n",
       "      <td>18.0</td>\n",
       "      <td>2018-08-24 17:42:43</td>\n",
       "      <td>Undetermined (formerly 98)</td>\n",
       "      <td>Undetermined</td>\n",
       "      <td>2018-08-24 16:49:36</td>\n",
       "      <td>2018-08-24 16:54:09</td>\n",
       "      <td>2018-08-24 17:06:28</td>\n",
       "      <td>2018</td>\n",
       "      <td>8</td>\n",
       "      <td>4</td>\n",
       "      <td>Noon</td>\n",
       "      <td>5.0</td>\n",
       "      <td>12.0</td>\n",
       "      <td>49.0</td>\n",
       "    </tr>\n",
       "    <tr>\n",
       "      <th>1</th>\n",
       "      <td>Cooking Area or Kitchen</td>\n",
       "      <td>0</td>\n",
       "      <td>Other Cooking Items (eg Toaster, Kettle, elec ...</td>\n",
       "      <td>7.0</td>\n",
       "      <td>2018-11-24 12:45:21</td>\n",
       "      <td>Plastic</td>\n",
       "      <td>Under Investigation</td>\n",
       "      <td>2018-11-24 07:09:12</td>\n",
       "      <td>2018-11-24 07:14:23</td>\n",
       "      <td>2018-11-24 07:19:00</td>\n",
       "      <td>2018</td>\n",
       "      <td>11</td>\n",
       "      <td>5</td>\n",
       "      <td>Early Morning</td>\n",
       "      <td>5.0</td>\n",
       "      <td>5.0</td>\n",
       "      <td>331.0</td>\n",
       "    </tr>\n",
       "    <tr>\n",
       "      <th>2</th>\n",
       "      <td>Living Area (e.g. living, TV, recreation, etc)</td>\n",
       "      <td>1</td>\n",
       "      <td>Undetermined</td>\n",
       "      <td>27.0</td>\n",
       "      <td>2017-09-02 23:36:33</td>\n",
       "      <td>Undetermined (formerly 98)</td>\n",
       "      <td>Undetermined</td>\n",
       "      <td>2017-09-02 17:45:07</td>\n",
       "      <td>2017-09-02 17:48:49</td>\n",
       "      <td>2017-09-02 18:36:21</td>\n",
       "      <td>2017</td>\n",
       "      <td>9</td>\n",
       "      <td>5</td>\n",
       "      <td>Evening</td>\n",
       "      <td>4.0</td>\n",
       "      <td>48.0</td>\n",
       "      <td>348.0</td>\n",
       "    </tr>\n",
       "    <tr>\n",
       "      <th>3</th>\n",
       "      <td>Undetermined  (formerly 98)</td>\n",
       "      <td>0</td>\n",
       "      <td>Undetermined</td>\n",
       "      <td>20.0</td>\n",
       "      <td>2012-01-11 16:30:31</td>\n",
       "      <td>Undetermined (formerly 98)</td>\n",
       "      <td>Undetermined</td>\n",
       "      <td>2012-10-30 00:42:01</td>\n",
       "      <td>2012-10-30 00:44:58</td>\n",
       "      <td>2012-10-30 01:28:48</td>\n",
       "      <td>2012</td>\n",
       "      <td>10</td>\n",
       "      <td>1</td>\n",
       "      <td>Late Night</td>\n",
       "      <td>3.0</td>\n",
       "      <td>44.0</td>\n",
       "      <td>-420974.0</td>\n",
       "    </tr>\n",
       "    <tr>\n",
       "      <th>4</th>\n",
       "      <td>Sleeping Area or Bedroom (inc. patients room, ...</td>\n",
       "      <td>8</td>\n",
       "      <td>Matches or Lighters (unable to distinguish)</td>\n",
       "      <td>5.0</td>\n",
       "      <td>2018-08-07 16:44:07</td>\n",
       "      <td>Bedding</td>\n",
       "      <td>Suspected Arson</td>\n",
       "      <td>2018-08-07 04:08:50</td>\n",
       "      <td>2018-08-07 04:13:54</td>\n",
       "      <td>2018-08-07 04:38:28</td>\n",
       "      <td>2018</td>\n",
       "      <td>8</td>\n",
       "      <td>1</td>\n",
       "      <td>Late Night</td>\n",
       "      <td>5.0</td>\n",
       "      <td>25.0</td>\n",
       "      <td>750.0</td>\n",
       "    </tr>\n",
       "  </tbody>\n",
       "</table>\n",
       "</div>"
      ],
      "text/plain": [
       "                                      Area_of_Origin  Civilian_Casualties  \\\n",
       "0                                   Porch or Balcony                    0   \n",
       "1                            Cooking Area or Kitchen                    0   \n",
       "2     Living Area (e.g. living, TV, recreation, etc)                    1   \n",
       "3                        Undetermined  (formerly 98)                    0   \n",
       "4  Sleeping Area or Bedroom (inc. patients room, ...                    8   \n",
       "\n",
       "                                     Ignition_Source  Incident_Ward  \\\n",
       "0                                       Undetermined           18.0   \n",
       "1  Other Cooking Items (eg Toaster, Kettle, elec ...            7.0   \n",
       "2                                       Undetermined           27.0   \n",
       "3                                       Undetermined           20.0   \n",
       "4        Matches or Lighters (unable to distinguish)            5.0   \n",
       "\n",
       "  Last_TFS_Unit_Clear_Time      Material_First_Ignited       Possible_Cause  \\\n",
       "0      2018-08-24 17:42:43  Undetermined (formerly 98)         Undetermined   \n",
       "1      2018-11-24 12:45:21                     Plastic  Under Investigation   \n",
       "2      2017-09-02 23:36:33  Undetermined (formerly 98)         Undetermined   \n",
       "3      2012-01-11 16:30:31  Undetermined (formerly 98)         Undetermined   \n",
       "4      2018-08-07 16:44:07                     Bedding      Suspected Arson   \n",
       "\n",
       "       TFS_Alarm_Time    TFS_Arrival_Time Fire_Under_Control_Time  Year  \\\n",
       "0 2018-08-24 16:49:36 2018-08-24 16:54:09     2018-08-24 17:06:28  2018   \n",
       "1 2018-11-24 07:09:12 2018-11-24 07:14:23     2018-11-24 07:19:00  2018   \n",
       "2 2017-09-02 17:45:07 2017-09-02 17:48:49     2017-09-02 18:36:21  2017   \n",
       "3 2012-10-30 00:42:01 2012-10-30 00:44:58     2012-10-30 01:28:48  2012   \n",
       "4 2018-08-07 04:08:50 2018-08-07 04:13:54     2018-08-07 04:38:28  2018   \n",
       "\n",
       "   Month  Day_of_Week    Part_of_Day  Reaction_time_minutes  \\\n",
       "0      8            4           Noon                    5.0   \n",
       "1     11            5  Early Morning                    5.0   \n",
       "2      9            5        Evening                    4.0   \n",
       "3     10            1     Late Night                    3.0   \n",
       "4      8            1     Late Night                    5.0   \n",
       "\n",
       "   Extinguish_time_minutes  Time_spent_minutes  \n",
       "0                     12.0                49.0  \n",
       "1                      5.0               331.0  \n",
       "2                     48.0               348.0  \n",
       "3                     44.0           -420974.0  \n",
       "4                     25.0               750.0  "
      ]
     },
     "execution_count": 16,
     "metadata": {},
     "output_type": "execute_result"
    }
   ],
   "source": [
    "df3.head()"
   ]
  },
  {
   "cell_type": "code",
   "execution_count": 17,
   "id": "18d7236b",
   "metadata": {},
   "outputs": [
    {
     "data": {
      "text/plain": [
       "<AxesSubplot:ylabel='Extinguish_time_minutes'>"
      ]
     },
     "execution_count": 17,
     "metadata": {},
     "output_type": "execute_result"
    },
    {
     "data": {
      "image/png": "[encoded data removed]",
      "text/plain": [
       "<Figure size 1440x720 with 2 Axes>"
      ]
     },
     "metadata": {
      "needs_background": "light"
     },
     "output_type": "display_data"
    }
   ],
   "source": [
    "fig, axes = plt.subplots(1,2, figsize=(20,10))\n",
    "\n",
    "sns.stripplot(data=df3, y='Reaction_time_minutes', ax=axes[0])\n",
    "sns.stripplot(data=df3, y='Extinguish_time_minutes', ax=axes[1])"
   ]
  },
  {
   "cell_type": "markdown",
   "id": "e0107600",
   "metadata": {},
   "source": [
    "Time cannot be in negative.Since there seems to be values in negative, we will filter the dataset as such there is no negative values"
   ]
  },
  {
   "cell_type": "code",
   "execution_count": 18,
   "id": "ffc912d5",
   "metadata": {},
   "outputs": [],
   "source": [
    "df3 = df3[(df3.Extinguish_time_minutes < 750) & (df3.Reaction_time_minutes < 250)]\n",
    "df3 = df3[(df3.Time_spent_minutes >=0)]\n",
    "df3 = df3[(df3.Extinguish_time_minutes >= 0 ) & (df3.Reaction_time_minutes >=0)]"
   ]
  },
  {
   "cell_type": "code",
   "execution_count": 19,
   "id": "568e7b7c",
   "metadata": {},
   "outputs": [
    {
     "data": {
      "text/plain": [
       "<AxesSubplot:ylabel='Extinguish_time_minutes'>"
      ]
     },
     "execution_count": 19,
     "metadata": {},
     "output_type": "execute_result"
    },
    {
     "data": {
      "image/png": "[encoded data removed]",
      "text/plain": [
       "<Figure size 1440x720 with 2 Axes>"
      ]
     },
     "metadata": {
      "needs_background": "light"
     },
     "output_type": "display_data"
    }
   ],
   "source": [
    "fig, axes = plt.subplots(1,2, figsize=(20,10))\n",
    "\n",
    "sns.stripplot(data=df3, y='Reaction_time_minutes', ax=axes[0])\n",
    "sns.stripplot(data=df3, y='Extinguish_time_minutes', ax=axes[1])"
   ]
  },
  {
   "cell_type": "markdown",
   "id": "ff0d0f1f",
   "metadata": {},
   "source": [
    "Now the dataset has been cleaned"
   ]
  },
  {
   "cell_type": "code",
   "execution_count": 20,
   "id": "7d8fbbeb",
   "metadata": {},
   "outputs": [],
   "source": [
    "df3['Casuality']=df3['Civilian_Casualties']\n",
    "df3.loc[df3.Casuality > 0, 'Casuality'] = 'Casualties'\n",
    "df3.loc[df3.Casuality == 0, 'Casuality'] = 'No Casualties'\n"
   ]
  },
  {
   "cell_type": "code",
   "execution_count": 21,
   "id": "6949da79",
   "metadata": {},
   "outputs": [
    {
     "data": {
      "text/html": [
       "<div>\n",
       "<style scoped>\n",
       "    .dataframe tbody tr th:only-of-type {\n",
       "        vertical-align: middle;\n",
       "    }\n",
       "\n",
       "    .dataframe tbody tr th {\n",
       "        vertical-align: top;\n",
       "    }\n",
       "\n",
       "    .dataframe thead th {\n",
       "        text-align: right;\n",
       "    }\n",
       "</style>\n",
       "<table border=\"1\" class=\"dataframe\">\n",
       "  <thead>\n",
       "    <tr style=\"text-align: right;\">\n",
       "      <th></th>\n",
       "      <th>Area_of_Origin</th>\n",
       "      <th>Civilian_Casualties</th>\n",
       "      <th>Ignition_Source</th>\n",
       "      <th>Incident_Ward</th>\n",
       "      <th>Last_TFS_Unit_Clear_Time</th>\n",
       "      <th>Material_First_Ignited</th>\n",
       "      <th>Possible_Cause</th>\n",
       "      <th>TFS_Alarm_Time</th>\n",
       "      <th>TFS_Arrival_Time</th>\n",
       "      <th>Fire_Under_Control_Time</th>\n",
       "      <th>Year</th>\n",
       "      <th>Month</th>\n",
       "      <th>Day_of_Week</th>\n",
       "      <th>Part_of_Day</th>\n",
       "      <th>Reaction_time_minutes</th>\n",
       "      <th>Extinguish_time_minutes</th>\n",
       "      <th>Time_spent_minutes</th>\n",
       "      <th>Casuality</th>\n",
       "    </tr>\n",
       "  </thead>\n",
       "  <tbody>\n",
       "    <tr>\n",
       "      <th>0</th>\n",
       "      <td>Porch or Balcony</td>\n",
       "      <td>0</td>\n",
       "      <td>Undetermined</td>\n",
       "      <td>18.0</td>\n",
       "      <td>2018-08-24 17:42:43</td>\n",
       "      <td>Undetermined (formerly 98)</td>\n",
       "      <td>Undetermined</td>\n",
       "      <td>2018-08-24 16:49:36</td>\n",
       "      <td>2018-08-24 16:54:09</td>\n",
       "      <td>2018-08-24 17:06:28</td>\n",
       "      <td>2018</td>\n",
       "      <td>8</td>\n",
       "      <td>4</td>\n",
       "      <td>Noon</td>\n",
       "      <td>5.0</td>\n",
       "      <td>12.0</td>\n",
       "      <td>49.0</td>\n",
       "      <td>No Casualties</td>\n",
       "    </tr>\n",
       "    <tr>\n",
       "      <th>1</th>\n",
       "      <td>Cooking Area or Kitchen</td>\n",
       "      <td>0</td>\n",
       "      <td>Other Cooking Items (eg Toaster, Kettle, elec ...</td>\n",
       "      <td>7.0</td>\n",
       "      <td>2018-11-24 12:45:21</td>\n",
       "      <td>Plastic</td>\n",
       "      <td>Under Investigation</td>\n",
       "      <td>2018-11-24 07:09:12</td>\n",
       "      <td>2018-11-24 07:14:23</td>\n",
       "      <td>2018-11-24 07:19:00</td>\n",
       "      <td>2018</td>\n",
       "      <td>11</td>\n",
       "      <td>5</td>\n",
       "      <td>Early Morning</td>\n",
       "      <td>5.0</td>\n",
       "      <td>5.0</td>\n",
       "      <td>331.0</td>\n",
       "      <td>No Casualties</td>\n",
       "    </tr>\n",
       "    <tr>\n",
       "      <th>2</th>\n",
       "      <td>Living Area (e.g. living, TV, recreation, etc)</td>\n",
       "      <td>1</td>\n",
       "      <td>Undetermined</td>\n",
       "      <td>27.0</td>\n",
       "      <td>2017-09-02 23:36:33</td>\n",
       "      <td>Undetermined (formerly 98)</td>\n",
       "      <td>Undetermined</td>\n",
       "      <td>2017-09-02 17:45:07</td>\n",
       "      <td>2017-09-02 17:48:49</td>\n",
       "      <td>2017-09-02 18:36:21</td>\n",
       "      <td>2017</td>\n",
       "      <td>9</td>\n",
       "      <td>5</td>\n",
       "      <td>Evening</td>\n",
       "      <td>4.0</td>\n",
       "      <td>48.0</td>\n",
       "      <td>348.0</td>\n",
       "      <td>Casualties</td>\n",
       "    </tr>\n",
       "    <tr>\n",
       "      <th>4</th>\n",
       "      <td>Sleeping Area or Bedroom (inc. patients room, ...</td>\n",
       "      <td>8</td>\n",
       "      <td>Matches or Lighters (unable to distinguish)</td>\n",
       "      <td>5.0</td>\n",
       "      <td>2018-08-07 16:44:07</td>\n",
       "      <td>Bedding</td>\n",
       "      <td>Suspected Arson</td>\n",
       "      <td>2018-08-07 04:08:50</td>\n",
       "      <td>2018-08-07 04:13:54</td>\n",
       "      <td>2018-08-07 04:38:28</td>\n",
       "      <td>2018</td>\n",
       "      <td>8</td>\n",
       "      <td>1</td>\n",
       "      <td>Late Night</td>\n",
       "      <td>5.0</td>\n",
       "      <td>25.0</td>\n",
       "      <td>750.0</td>\n",
       "      <td>Casualties</td>\n",
       "    </tr>\n",
       "    <tr>\n",
       "      <th>5</th>\n",
       "      <td>Engine Area</td>\n",
       "      <td>0</td>\n",
       "      <td>Vehicle - Electrical</td>\n",
       "      <td>15.0</td>\n",
       "      <td>2019-02-18 11:10:29</td>\n",
       "      <td>Electrical Wiring Insulation</td>\n",
       "      <td>Electrical Failure</td>\n",
       "      <td>2019-02-18 10:19:01</td>\n",
       "      <td>2019-02-18 10:23:27</td>\n",
       "      <td>2019-02-18 10:27:48</td>\n",
       "      <td>2019</td>\n",
       "      <td>2</td>\n",
       "      <td>0</td>\n",
       "      <td>Morning</td>\n",
       "      <td>4.0</td>\n",
       "      <td>4.0</td>\n",
       "      <td>47.0</td>\n",
       "      <td>No Casualties</td>\n",
       "    </tr>\n",
       "  </tbody>\n",
       "</table>\n",
       "</div>"
      ],
      "text/plain": [
       "                                      Area_of_Origin  Civilian_Casualties  \\\n",
       "0                                   Porch or Balcony                    0   \n",
       "1                            Cooking Area or Kitchen                    0   \n",
       "2     Living Area (e.g. living, TV, recreation, etc)                    1   \n",
       "4  Sleeping Area or Bedroom (inc. patients room, ...                    8   \n",
       "5                                        Engine Area                    0   \n",
       "\n",
       "                                     Ignition_Source  Incident_Ward  \\\n",
       "0                                       Undetermined           18.0   \n",
       "1  Other Cooking Items (eg Toaster, Kettle, elec ...            7.0   \n",
       "2                                       Undetermined           27.0   \n",
       "4        Matches or Lighters (unable to distinguish)            5.0   \n",
       "5                               Vehicle - Electrical           15.0   \n",
       "\n",
       "  Last_TFS_Unit_Clear_Time        Material_First_Ignited       Possible_Cause  \\\n",
       "0      2018-08-24 17:42:43    Undetermined (formerly 98)         Undetermined   \n",
       "1      2018-11-24 12:45:21                       Plastic  Under Investigation   \n",
       "2      2017-09-02 23:36:33    Undetermined (formerly 98)         Undetermined   \n",
       "4      2018-08-07 16:44:07                       Bedding      Suspected Arson   \n",
       "5      2019-02-18 11:10:29  Electrical Wiring Insulation   Electrical Failure   \n",
       "\n",
       "       TFS_Alarm_Time    TFS_Arrival_Time Fire_Under_Control_Time  Year  \\\n",
       "0 2018-08-24 16:49:36 2018-08-24 16:54:09     2018-08-24 17:06:28  2018   \n",
       "1 2018-11-24 07:09:12 2018-11-24 07:14:23     2018-11-24 07:19:00  2018   \n",
       "2 2017-09-02 17:45:07 2017-09-02 17:48:49     2017-09-02 18:36:21  2017   \n",
       "4 2018-08-07 04:08:50 2018-08-07 04:13:54     2018-08-07 04:38:28  2018   \n",
       "5 2019-02-18 10:19:01 2019-02-18 10:23:27     2019-02-18 10:27:48  2019   \n",
       "\n",
       "   Month  Day_of_Week    Part_of_Day  Reaction_time_minutes  \\\n",
       "0      8            4           Noon                    5.0   \n",
       "1     11            5  Early Morning                    5.0   \n",
       "2      9            5        Evening                    4.0   \n",
       "4      8            1     Late Night                    5.0   \n",
       "5      2            0        Morning                    4.0   \n",
       "\n",
       "   Extinguish_time_minutes  Time_spent_minutes      Casuality  \n",
       "0                     12.0                49.0  No Casualties  \n",
       "1                      5.0               331.0  No Casualties  \n",
       "2                     48.0               348.0     Casualties  \n",
       "4                     25.0               750.0     Casualties  \n",
       "5                      4.0                47.0  No Casualties  "
      ]
     },
     "execution_count": 21,
     "metadata": {},
     "output_type": "execute_result"
    }
   ],
   "source": [
    "df3.head()"
   ]
  },
  {
   "cell_type": "code",
   "execution_count": 22,
   "id": "c1d97731",
   "metadata": {},
   "outputs": [
    {
     "data": {
      "text/html": [
       "<div>\n",
       "<style scoped>\n",
       "    .dataframe tbody tr th:only-of-type {\n",
       "        vertical-align: middle;\n",
       "    }\n",
       "\n",
       "    .dataframe tbody tr th {\n",
       "        vertical-align: top;\n",
       "    }\n",
       "\n",
       "    .dataframe thead th {\n",
       "        text-align: right;\n",
       "    }\n",
       "</style>\n",
       "<table border=\"1\" class=\"dataframe\">\n",
       "  <thead>\n",
       "    <tr style=\"text-align: right;\">\n",
       "      <th></th>\n",
       "      <th>Civilian_Casualties</th>\n",
       "      <th>Incident_Ward</th>\n",
       "      <th>Year</th>\n",
       "      <th>Month</th>\n",
       "      <th>Day_of_Week</th>\n",
       "      <th>Reaction_time_minutes</th>\n",
       "      <th>Extinguish_time_minutes</th>\n",
       "      <th>Time_spent_minutes</th>\n",
       "    </tr>\n",
       "  </thead>\n",
       "  <tbody>\n",
       "    <tr>\n",
       "      <th>count</th>\n",
       "      <td>11108.000000</td>\n",
       "      <td>11108.000000</td>\n",
       "      <td>11108.000000</td>\n",
       "      <td>11108.000000</td>\n",
       "      <td>11108.000000</td>\n",
       "      <td>11108.000000</td>\n",
       "      <td>11108.000000</td>\n",
       "      <td>11108.000000</td>\n",
       "    </tr>\n",
       "    <tr>\n",
       "      <th>mean</th>\n",
       "      <td>0.112081</td>\n",
       "      <td>19.532589</td>\n",
       "      <td>2014.748380</td>\n",
       "      <td>6.372344</td>\n",
       "      <td>3.055366</td>\n",
       "      <td>4.968761</td>\n",
       "      <td>13.172758</td>\n",
       "      <td>987.150792</td>\n",
       "    </tr>\n",
       "    <tr>\n",
       "      <th>std</th>\n",
       "      <td>0.455794</td>\n",
       "      <td>11.790568</td>\n",
       "      <td>2.470784</td>\n",
       "      <td>3.454967</td>\n",
       "      <td>1.995695</td>\n",
       "      <td>1.411925</td>\n",
       "      <td>26.621049</td>\n",
       "      <td>6268.720404</td>\n",
       "    </tr>\n",
       "    <tr>\n",
       "      <th>min</th>\n",
       "      <td>0.000000</td>\n",
       "      <td>0.000000</td>\n",
       "      <td>2011.000000</td>\n",
       "      <td>1.000000</td>\n",
       "      <td>0.000000</td>\n",
       "      <td>0.000000</td>\n",
       "      <td>0.000000</td>\n",
       "      <td>0.000000</td>\n",
       "    </tr>\n",
       "    <tr>\n",
       "      <th>25%</th>\n",
       "      <td>0.000000</td>\n",
       "      <td>9.000000</td>\n",
       "      <td>2013.000000</td>\n",
       "      <td>3.000000</td>\n",
       "      <td>1.000000</td>\n",
       "      <td>4.000000</td>\n",
       "      <td>2.000000</td>\n",
       "      <td>28.000000</td>\n",
       "    </tr>\n",
       "    <tr>\n",
       "      <th>50%</th>\n",
       "      <td>0.000000</td>\n",
       "      <td>19.000000</td>\n",
       "      <td>2015.000000</td>\n",
       "      <td>6.000000</td>\n",
       "      <td>3.000000</td>\n",
       "      <td>5.000000</td>\n",
       "      <td>6.000000</td>\n",
       "      <td>50.000000</td>\n",
       "    </tr>\n",
       "    <tr>\n",
       "      <th>75%</th>\n",
       "      <td>0.000000</td>\n",
       "      <td>28.000000</td>\n",
       "      <td>2017.000000</td>\n",
       "      <td>9.000000</td>\n",
       "      <td>5.000000</td>\n",
       "      <td>6.000000</td>\n",
       "      <td>13.000000</td>\n",
       "      <td>90.000000</td>\n",
       "    </tr>\n",
       "    <tr>\n",
       "      <th>max</th>\n",
       "      <td>15.000000</td>\n",
       "      <td>44.000000</td>\n",
       "      <td>2019.000000</td>\n",
       "      <td>12.000000</td>\n",
       "      <td>6.000000</td>\n",
       "      <td>24.000000</td>\n",
       "      <td>668.000000</td>\n",
       "      <td>133058.000000</td>\n",
       "    </tr>\n",
       "  </tbody>\n",
       "</table>\n",
       "</div>"
      ],
      "text/plain": [
       "       Civilian_Casualties  Incident_Ward          Year         Month  \\\n",
       "count         11108.000000   11108.000000  11108.000000  11108.000000   \n",
       "mean              0.112081      19.532589   2014.748380      6.372344   \n",
       "std               0.455794      11.790568      2.470784      3.454967   \n",
       "min               0.000000       0.000000   2011.000000      1.000000   \n",
       "25%               0.000000       9.000000   2013.000000      3.000000   \n",
       "50%               0.000000      19.000000   2015.000000      6.000000   \n",
       "75%               0.000000      28.000000   2017.000000      9.000000   \n",
       "max              15.000000      44.000000   2019.000000     12.000000   \n",
       "\n",
       "        Day_of_Week  Reaction_time_minutes  Extinguish_time_minutes  \\\n",
       "count  11108.000000           11108.000000             11108.000000   \n",
       "mean       3.055366               4.968761                13.172758   \n",
       "std        1.995695               1.411925                26.621049   \n",
       "min        0.000000               0.000000                 0.000000   \n",
       "25%        1.000000               4.000000                 2.000000   \n",
       "50%        3.000000               5.000000                 6.000000   \n",
       "75%        5.000000               6.000000                13.000000   \n",
       "max        6.000000              24.000000               668.000000   \n",
       "\n",
       "       Time_spent_minutes  \n",
       "count        11108.000000  \n",
       "mean           987.150792  \n",
       "std           6268.720404  \n",
       "min              0.000000  \n",
       "25%             28.000000  \n",
       "50%             50.000000  \n",
       "75%             90.000000  \n",
       "max         133058.000000  "
      ]
     },
     "execution_count": 22,
     "metadata": {},
     "output_type": "execute_result"
    }
   ],
   "source": [
    "df3.describe()"
   ]
  },
  {
   "cell_type": "markdown",
   "id": "f5f7197d",
   "metadata": {},
   "source": [
    "## Visualization with respect to time"
   ]
  },
  {
   "cell_type": "code",
   "execution_count": 34,
   "id": "0110f26a",
   "metadata": {},
   "outputs": [
    {
     "data": {
      "text/plain": [
       "Text(0.5, 1.0, 'Extinguish_time_minutes')"
      ]
     },
     "execution_count": 34,
     "metadata": {},
     "output_type": "execute_result"
    },
    {
     "data": {
      "image/png": "[encoded data removed]",
      "text/plain": [
       "<Figure size 432x288 with 1 Axes>"
      ]
     },
     "metadata": {
      "needs_background": "light"
     },
     "output_type": "display_data"
    }
   ],
   "source": [
    "order = df3['Extinguish_time_minutes'].value_counts(ascending=False).head(20).index\n",
    "sns.countplot(y=df3['Extinguish_time_minutes'],order=order).set_title(\"Extinguish_time_minutes\")"
   ]
  },
  {
   "cell_type": "code",
   "execution_count": 35,
   "id": "0133e866",
   "metadata": {},
   "outputs": [
    {
     "data": {
      "text/plain": [
       "Text(0.5, 1.0, 'Reaction_time_minutes')"
      ]
     },
     "execution_count": 35,
     "metadata": {},
     "output_type": "execute_result"
    },
    {
     "data": {
      "image/png": "[encoded data removed]",
      "text/plain": [
       "<Figure size 432x288 with 1 Axes>"
      ]
     },
     "metadata": {
      "needs_background": "light"
     },
     "output_type": "display_data"
    }
   ],
   "source": [
    "order = df3['Reaction_time_minutes'].value_counts(ascending=False).head(20).index\n",
    "sns.countplot(y=df3['Reaction_time_minutes'],order=order).set_title(\"Reaction_time_minutes\")"
   ]
  },
  {
   "cell_type": "code",
   "execution_count": 36,
   "id": "06301c5d",
   "metadata": {},
   "outputs": [
    {
     "data": {
      "text/plain": [
       "Text(0.5, 1.0, 'Time_spent_minutes')"
      ]
     },
     "execution_count": 36,
     "metadata": {},
     "output_type": "execute_result"
    },
    {
     "data": {
      "image/png": "[encoded data removed]",
      "text/plain": [
       "<Figure size 432x288 with 1 Axes>"
      ]
     },
     "metadata": {
      "needs_background": "light"
     },
     "output_type": "display_data"
    }
   ],
   "source": [
    "order = df3['Time_spent_minutes'].value_counts(ascending=False).head(20).index\n",
    "sns.countplot(y=df3['Time_spent_minutes'],order=order).set_title(\"Time_spent_minutes\")"
   ]
  },
  {
   "cell_type": "code",
   "execution_count": 26,
   "id": "6a787630",
   "metadata": {},
   "outputs": [
    {
     "data": {
      "text/plain": [
       "<AxesSubplot:xlabel='count', ylabel='Month'>"
      ]
     },
     "execution_count": 26,
     "metadata": {},
     "output_type": "execute_result"
    },
    {
     "data": {
      "image/png": "[encoded data removed]",
      "text/plain": [
       "<Figure size 432x288 with 1 Axes>"
      ]
     },
     "metadata": {
      "needs_background": "light"
     },
     "output_type": "display_data"
    }
   ],
   "source": [
    "order = df3['Month'].value_counts(ascending=False).index\n",
    "sns.countplot(y=df3['Month'],order=order)"
   ]
  },
  {
   "cell_type": "code",
   "execution_count": 33,
   "id": "4f4353c1",
   "metadata": {},
   "outputs": [
    {
     "data": {
      "text/plain": [
       "<AxesSubplot:xlabel='count', ylabel='Year'>"
      ]
     },
     "execution_count": 33,
     "metadata": {},
     "output_type": "execute_result"
    },
    {
     "data": {
      "image/png": "[encoded data removed]",
      "text/plain": [
       "<Figure size 432x288 with 1 Axes>"
      ]
     },
     "metadata": {
      "needs_background": "light"
     },
     "output_type": "display_data"
    }
   ],
   "source": [
    "order = df3['Year'].value_counts(ascending=False).index\n",
    "sns.countplot(y=df3['Year'],order=order)"
   ]
  },
  {
   "cell_type": "code",
   "execution_count": 27,
   "id": "835c2319",
   "metadata": {},
   "outputs": [
    {
     "data": {
      "text/plain": [
       "<AxesSubplot:xlabel='count', ylabel='Part_of_Day'>"
      ]
     },
     "execution_count": 27,
     "metadata": {},
     "output_type": "execute_result"
    },
    {
     "data": {
      "image/png": "[encoded data removed]",
      "text/plain": [
       "<Figure size 432x288 with 1 Axes>"
      ]
     },
     "metadata": {
      "needs_background": "light"
     },
     "output_type": "display_data"
    }
   ],
   "source": [
    "order = df3['Part_of_Day'].value_counts(ascending=False).index\n",
    "sns.countplot(y=df3['Part_of_Day'],order=order)"
   ]
  },
  {
   "cell_type": "markdown",
   "id": "861d61b7",
   "metadata": {},
   "source": [
    "# Visualization with respect to Casualities"
   ]
  },
  {
   "cell_type": "code",
   "execution_count": 28,
   "id": "6342d1fa",
   "metadata": {},
   "outputs": [
    {
     "data": {
      "text/plain": [
       "<AxesSubplot:xlabel='count', ylabel='Area_of_Origin'>"
      ]
     },
     "execution_count": 28,
     "metadata": {},
     "output_type": "execute_result"
    },
    {
     "data": {
      "image/png": "[encoded data removed]",
      "text/plain": [
       "<Figure size 432x288 with 1 Axes>"
      ]
     },
     "metadata": {
      "needs_background": "light"
     },
     "output_type": "display_data"
    }
   ],
   "source": [
    "order = df3['Area_of_Origin'].value_counts(ascending=False).head(10).index\n",
    "sns.countplot(y=df3['Area_of_Origin'],order=order,hue=df3['Casuality'])"
   ]
  },
  {
   "cell_type": "code",
   "execution_count": 29,
   "id": "4649bf3f",
   "metadata": {},
   "outputs": [
    {
     "data": {
      "text/plain": [
       "<AxesSubplot:xlabel='count', ylabel='Material_First_Ignited'>"
      ]
     },
     "execution_count": 29,
     "metadata": {},
     "output_type": "execute_result"
    },
    {
     "data": {
      "image/png": "[encoded data removed]",
      "text/plain": [
       "<Figure size 432x288 with 1 Axes>"
      ]
     },
     "metadata": {
      "needs_background": "light"
     },
     "output_type": "display_data"
    }
   ],
   "source": [
    "order = df3['Material_First_Ignited'].value_counts(ascending=False).head(10).index\n",
    "sns.countplot(data=df3,y='Material_First_Ignited',order=order,hue='Casuality')"
   ]
  },
  {
   "cell_type": "code",
   "execution_count": 30,
   "id": "8cd9d105",
   "metadata": {},
   "outputs": [
    {
     "data": {
      "text/plain": [
       "Text(0.5, 1.0, 'Ignition_Source')"
      ]
     },
     "execution_count": 30,
     "metadata": {},
     "output_type": "execute_result"
    },
    {
     "data": {
      "image/png": "[encoded data removed]",
      "text/plain": [
       "<Figure size 432x288 with 1 Axes>"
      ]
     },
     "metadata": {
      "needs_background": "light"
     },
     "output_type": "display_data"
    }
   ],
   "source": [
    "order = df3['Ignition_Source'].value_counts(ascending=False).head(10).index\n",
    "sns.countplot(data=df3,y='Ignition_Source',order=order,hue='Casuality').set_title(\"Ignition_Source\")"
   ]
  },
  {
   "cell_type": "code",
   "execution_count": 31,
   "id": "4a9cff6d",
   "metadata": {},
   "outputs": [
    {
     "data": {
      "text/plain": [
       "<AxesSubplot:xlabel='count', ylabel='Possible_Cause'>"
      ]
     },
     "execution_count": 31,
     "metadata": {},
     "output_type": "execute_result"
    },
    {
     "data": {
      "image/png": "[encoded data removed]",
      "text/plain": [
       "<Figure size 432x288 with 1 Axes>"
      ]
     },
     "metadata": {
      "needs_background": "light"
     },
     "output_type": "display_data"
    }
   ],
   "source": [
    "order = df3['Possible_Cause'].value_counts(ascending=False).head(10).index\n",
    "sns.countplot(data=df3,y='Possible_Cause',order=order,hue='Casuality')"
   ]
  },
  {
   "cell_type": "markdown",
   "id": "b0a88417",
   "metadata": {},
   "source": [
    "# Insights"
   ]
  },
  {
   "cell_type": "markdown",
   "id": "43d1fdc4",
   "metadata": {},
   "source": [
    "- Casualties most often occur in the cooking and sleeping area’s.\n",
    "- Casualties most often occur during improper handling of cooking oil, cabinetry, bedding and mattresses/pillows.\n",
    "- Most fire accidents happened at April\n",
    "- Most fire accidents has happened during Evening\n",
    "- Toranto Fire Service controlled fire and left the scene within in half an hour since arrival, in most cases\n",
    "- Toranto Fire Service responded to the fire alerts within 5 minutes and arrived at the scene\n",
    "- Most fire accidents have been extinguished within couple minutes\n",
    "- In Most fire accidents Cooking Oil,Grease were the first material to catch fire\n",
    "- Ward 20 has recorded frequent fire incidents\n",
    "- Most fire accidents are originated from cooking area or Kitchen\n",
    "- Year 2014 has reported highest number of fire accidents\n",
    "\n"
   ]
  },
  {
   "cell_type": "code",
   "execution_count": null,
   "id": "95d374ca",
   "metadata": {},
   "outputs": [],
   "source": []
  }
 ],
 "metadata": {
  "kernelspec": {
   "display_name": "Python 3 (ipykernel)",
   "language": "python",
   "name": "python3"
  },
  "language_info": {
   "codemirror_mode": {
    "name": "ipython",
    "version": 3
   },
   "file_extension": ".py",
   "mimetype": "text/x-python",
   "name": "python",
   "nbconvert_exporter": "python",
   "pygments_lexer": "ipython3",
   "version": "3.8.8"
  }
 },
 "nbformat": 4,
 "nbformat_minor": 5
}
